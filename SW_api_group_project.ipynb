{
 "cells": [
  {
   "cell_type": "code",
   "execution_count": 10,
   "metadata": {},
   "outputs": [],
   "source": [
    "# Starting by importing...\n",
    "import pandas as pd \n",
    "import requests\n",
    "sw_url = 'https://swapi.dev/api/'"
   ]
  },
  {
   "cell_type": "code",
   "execution_count": 9,
   "metadata": {},
   "outputs": [
    {
     "name": "stdout",
     "output_type": "stream",
     "text": [
      "Pick a film!\n",
      "1. A New Hope\n",
      "2. The Empire Strikes Back\n",
      "3. Return of the Jedi\n",
      "4. The Phantom Menace\n",
      "5. Attack of the Clones\n",
      "6. Revenge of the Sith\n",
      "\n",
      "Title: Return of the Jedi\n",
      "Opening Crawl: Luke Skywalker has returned to\n",
      "his home planet of Tatooine in\n",
      "an attempt to rescue his\n",
      "friend Han Solo from the\n",
      "clutches of the vile gangster\n",
      "Jabba the Hutt.\n",
      "\n",
      "Little does Luke know that the\n",
      "GALACTIC EMPIRE has secretly\n",
      "begun construction on a new\n",
      "armored space station even\n",
      "more powerful than the first\n",
      "dreaded Death Star.\n",
      "\n",
      "When completed, this ultimate\n",
      "weapon will spell certain doom\n",
      "for the small band of rebels\n",
      "struggling to restore freedom\n",
      "to the galaxy...\n",
      "Director: Richard Marquand\n",
      "Producer: Howard G. Kazanjian, George Lucas, Rick McCallum\n"
     ]
    }
   ],
   "source": [
    "# ...then the user looks through all of the Star Wars films...\n",
    "response = requests.get(sw_url + 'films/')\n",
    "films = response.json()['results']\n",
    "\n",
    "# ...the user picks a film...\n",
    "print('Pick a film!')\n",
    "for i, film in enumerate(films):\n",
    "    print(f\"{i+1}. {film['title']}\")\n",
    "\n",
    "\n",
    "# ...the user's input is converted to the correct format...\n",
    "film_idx = int(input(\"I pick: \")) - 1\n",
    "film_url = films[film_idx][\"url\"]\n",
    "\n",
    "# ...and a request is made...\n",
    "response = requests.get(film_url)\n",
    "film_data = response.json()\n",
    "\n",
    "print(f\"\\nTitle: {film_data['title']}\")\n",
    "print(f\"Opening Crawl: {film_data['opening_crawl']}\")\n",
    "print(f\"Director: {film_data['director']}\")\n",
    "print(f\"Producer: {film_data['producer']}\")\n",
    "\n"
   ]
  },
  {
   "cell_type": "code",
   "execution_count": null,
   "metadata": {},
   "outputs": [],
   "source": []
  }
 ],
 "metadata": {
  "kernelspec": {
   "display_name": "python_workspace",
   "language": "python",
   "name": "python3"
  },
  "language_info": {
   "codemirror_mode": {
    "name": "ipython",
    "version": 3
   },
   "file_extension": ".py",
   "mimetype": "text/x-python",
   "name": "python",
   "nbconvert_exporter": "python",
   "pygments_lexer": "ipython3",
   "version": "3.13.1"
  }
 },
 "nbformat": 4,
 "nbformat_minor": 2
}
